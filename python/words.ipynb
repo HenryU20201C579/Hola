{
 "cells": [
  {
   "cell_type": "code",
   "execution_count": 2,
   "metadata": {},
   "outputs": [],
   "source": [
    "import pandas as pd\n",
    "import numpy as np\n",
    "import lxml"
   ]
  },
  {
   "cell_type": "code",
   "execution_count": 77,
   "metadata": {},
   "outputs": [
    {
     "data": {
      "text/html": [
       "<div>\n",
       "<style scoped>\n",
       "    .dataframe tbody tr th:only-of-type {\n",
       "        vertical-align: middle;\n",
       "    }\n",
       "\n",
       "    .dataframe tbody tr th {\n",
       "        vertical-align: top;\n",
       "    }\n",
       "\n",
       "    .dataframe thead th {\n",
       "        text-align: right;\n",
       "    }\n",
       "</style>\n",
       "<table border=\"1\" class=\"dataframe\">\n",
       "  <thead>\n",
       "    <tr style=\"text-align: right;\">\n",
       "      <th></th>\n",
       "      <th>0</th>\n",
       "      <th>1</th>\n",
       "      <th>2</th>\n",
       "    </tr>\n",
       "  </thead>\n",
       "  <tbody>\n",
       "    <tr>\n",
       "      <th>0</th>\n",
       "      <td>NaN</td>\n",
       "      <td>Inglés</td>\n",
       "      <td>Español</td>\n",
       "    </tr>\n",
       "    <tr>\n",
       "      <th>1</th>\n",
       "      <td>100.0</td>\n",
       "      <td>us</td>\n",
       "      <td>nos, nosotros</td>\n",
       "    </tr>\n",
       "    <tr>\n",
       "      <th>2</th>\n",
       "      <td>99.0</td>\n",
       "      <td>most</td>\n",
       "      <td>la mayoría, el mayor número, el máximo,</td>\n",
       "    </tr>\n",
       "    <tr>\n",
       "      <th>3</th>\n",
       "      <td>98.0</td>\n",
       "      <td>day</td>\n",
       "      <td>día</td>\n",
       "    </tr>\n",
       "    <tr>\n",
       "      <th>4</th>\n",
       "      <td>97.0</td>\n",
       "      <td>give</td>\n",
       "      <td>dar</td>\n",
       "    </tr>\n",
       "    <tr>\n",
       "      <th>...</th>\n",
       "      <td>...</td>\n",
       "      <td>...</td>\n",
       "      <td>...</td>\n",
       "    </tr>\n",
       "    <tr>\n",
       "      <th>96</th>\n",
       "      <td>5.0</td>\n",
       "      <td>and</td>\n",
       "      <td>y</td>\n",
       "    </tr>\n",
       "    <tr>\n",
       "      <th>97</th>\n",
       "      <td>4.0</td>\n",
       "      <td>of</td>\n",
       "      <td>de</td>\n",
       "    </tr>\n",
       "    <tr>\n",
       "      <th>98</th>\n",
       "      <td>3.0</td>\n",
       "      <td>to</td>\n",
       "      <td>a, hacia, hasta, por, para,</td>\n",
       "    </tr>\n",
       "    <tr>\n",
       "      <th>99</th>\n",
       "      <td>2.0</td>\n",
       "      <td>be</td>\n",
       "      <td>ser o estar</td>\n",
       "    </tr>\n",
       "    <tr>\n",
       "      <th>100</th>\n",
       "      <td>1.0</td>\n",
       "      <td>the</td>\n",
       "      <td>el, la, los, las</td>\n",
       "    </tr>\n",
       "  </tbody>\n",
       "</table>\n",
       "<p>101 rows × 3 columns</p>\n",
       "</div>"
      ],
      "text/plain": [
       "         0       1                                        2\n",
       "0      NaN  Inglés                                  Español\n",
       "1    100.0      us                            nos, nosotros\n",
       "2     99.0    most  la mayoría, el mayor número, el máximo,\n",
       "3     98.0     day                                      día\n",
       "4     97.0    give                                      dar\n",
       "..     ...     ...                                      ...\n",
       "96     5.0     and                                        y\n",
       "97     4.0      of                                       de\n",
       "98     3.0      to              a, hacia, hasta, por, para,\n",
       "99     2.0      be                              ser o estar\n",
       "100    1.0     the                         el, la, los, las\n",
       "\n",
       "[101 rows x 3 columns]"
      ]
     },
     "execution_count": 77,
     "metadata": {},
     "output_type": "execute_result"
    }
   ],
   "source": [
    "link = pd.read_html('https://www.berlitz.com/es-mx/blog/100-palabras-mas-usadas-en-ingles')\n",
    "data = link[0]\n",
    "data"
   ]
  },
  {
   "cell_type": "code",
   "execution_count": 73,
   "metadata": {},
   "outputs": [
    {
     "name": "stdout",
     "output_type": "stream",
     "text": [
      "0      Inglés\n",
      "1          us\n",
      "2        most\n",
      "3         day\n",
      "4        give\n",
      "        ...  \n",
      "96        and\n",
      "97         of\n",
      "98         to\n",
      "99         be\n",
      "100       the\n",
      "Name: 1, Length: 101, dtype: object \n",
      "\n",
      " -------------------------------------------- \n",
      "\n",
      " 0                                      Español\n",
      "1                                nos, nosotros\n",
      "2      la mayoría, el mayor número, el máximo,\n",
      "3                                          día\n",
      "4                                          dar\n",
      "                        ...                   \n",
      "96                                           y\n",
      "97                                          de\n",
      "98                 a, hacia, hasta, por, para,\n",
      "99                                 ser o estar\n",
      "100                           el, la, los, las\n",
      "Name: 2, Length: 101, dtype: object\n"
     ]
    }
   ],
   "source": [
    "data = data[[1, 2]]\n",
    "\n",
    "en =  data[1]\n",
    "esp = data[2]\n",
    "\n",
    "print(en, \"\\n\"*2, \"-----------\"*4, \"\\n\"*2 , esp)"
   ]
  },
  {
   "cell_type": "code",
   "execution_count": 63,
   "metadata": {},
   "outputs": [
    {
     "name": "stdout",
     "output_type": "stream",
     "text": [
      "give\n",
      "False\n",
      "now\n",
      "True\n",
      "be\n",
      "False\n",
      "come\n",
      "False\n",
      "because\n",
      "True\n",
      "new\n",
      "True\n",
      "could\n",
      "False\n",
      "Bucle completado después de 1 minuto.\n"
     ]
    }
   ],
   "source": [
    "import time\n",
    "import random\n",
    "# Duración en segundos del bucle (1 minuto = 60 segundos)\n",
    "duracion_en_segundos = 30\n",
    "\n",
    "# Tiempo de inicio del bucle\n",
    "tiempo_inicio = time.time()\n",
    "\n",
    "#variable random\n",
    "ran = random.randint(1, len(en))\n",
    "\n",
    "# Bucle while que se ejecutará durante 1 minuto\n",
    "while (time.time() - tiempo_inicio) < duracion_en_segundos:\n",
    "    ran = random.randint(1, len(en))\n",
    "    print(en[ran].lower())\n",
    "    rpt = input()\n",
    "    print(esp[ran].lower() == rpt, \"\\n\\n\")\n",
    "\n",
    "    \n",
    "\n",
    "print(\"Bucle completado después de 1 minuto.\")"
   ]
  },
  {
   "cell_type": "code",
   "execution_count": 75,
   "metadata": {},
   "outputs": [
    {
     "name": "stdout",
     "output_type": "stream",
     "text": [
      "Hola Mundo\n"
     ]
    }
   ],
   "source": [
    "from colorama import init, Fore\n",
    "\n",
    "# Inicializar colorama\n",
    "init(autoreset=True)\n",
    "\n",
    "# Imprimir \"Hola Mundo\" en verde\n",
    "print(Fore.GREEN + \"Hola Mundo\")"
   ]
  }
 ],
 "metadata": {
  "kernelspec": {
   "display_name": "Python 3",
   "language": "python",
   "name": "python3"
  },
  "language_info": {
   "codemirror_mode": {
    "name": "ipython",
    "version": 3
   },
   "file_extension": ".py",
   "mimetype": "text/x-python",
   "name": "python",
   "nbconvert_exporter": "python",
   "pygments_lexer": "ipython3",
   "version": "3.11.5"
  },
  "orig_nbformat": 4
 },
 "nbformat": 4,
 "nbformat_minor": 2
}
