{
 "cells": [
  {
   "cell_type": "code",
   "execution_count": 2,
   "metadata": {},
   "outputs": [],
   "source": [
    "import pandas as pd\n",
    "import numpy as np\n",
    "import lxml"
   ]
  },
  {
   "cell_type": "code",
   "execution_count": 12,
   "metadata": {},
   "outputs": [],
   "source": [
    "link = pd.read_html('https://www.berlitz.com/es-mx/blog/100-palabras-mas-usadas-en-ingles')\n",
    "data = link[0]"
   ]
  },
  {
   "cell_type": "code",
   "execution_count": 50,
   "metadata": {},
   "outputs": [
    {
     "name": "stdout",
     "output_type": "stream",
     "text": [
      "0      Inglés\n",
      "1          us\n",
      "2        most\n",
      "3         day\n",
      "4        give\n",
      "        ...  \n",
      "96        and\n",
      "97         of\n",
      "98         to\n",
      "99         be\n",
      "100       the\n",
      "Name: 1, Length: 101, dtype: object \n",
      "\n",
      " 0                                      Español\n",
      "1                                nos, nosotros\n",
      "2      la mayoría, el mayor número, el máximo,\n",
      "3                                          día\n",
      "4                                          dar\n",
      "                        ...                   \n",
      "96                                           y\n",
      "97                                          de\n",
      "98                 a, hacia, hasta, por, para,\n",
      "99                                 ser o estar\n",
      "100                           el, la, los, las\n",
      "Name: 2, Length: 101, dtype: object\n"
     ]
    }
   ],
   "source": [
    "data = data[[1, 2]]\n",
    "\n",
    "en =  data[1]\n",
    "esp = data[2]\n",
    "print(en,\"\\n\\n\" , esp)"
   ]
  },
  {
   "cell_type": "code",
   "execution_count": 63,
   "metadata": {},
   "outputs": [
    {
     "name": "stdout",
     "output_type": "stream",
     "text": [
      "give\n",
      "False\n",
      "now\n",
      "True\n",
      "be\n",
      "False\n",
      "come\n",
      "False\n",
      "because\n",
      "True\n",
      "new\n",
      "True\n",
      "could\n",
      "False\n",
      "Bucle completado después de 1 minuto.\n"
     ]
    }
   ],
   "source": [
    "import time\n",
    "import random\n",
    "# Duración en segundos del bucle (1 minuto = 60 segundos)\n",
    "duracion_en_segundos = 30\n",
    "\n",
    "# Tiempo de inicio del bucle\n",
    "tiempo_inicio = time.time()\n",
    "\n",
    "#variable random\n",
    "ran = random.randint(1, len(en))\n",
    "\n",
    "# Bucle while que se ejecutará durante 1 minuto\n",
    "while (time.time() - tiempo_inicio) < duracion_en_segundos:\n",
    "    ran = random.randint(1, len(en))\n",
    "    print(en[ran].lower())\n",
    "    rpt = input()\n",
    "    print(esp[ran].lower() == rpt, \"\\n\\n\")\n",
    "\n",
    "    \n",
    "\n",
    "print(\"Bucle completado después de 1 minuto.\")"
   ]
  },
  {
   "cell_type": "code",
   "execution_count": 61,
   "metadata": {},
   "outputs": [
    {
     "name": "stdout",
     "output_type": "stream",
     "text": [
      "inglés\n",
      "True\n",
      "us\n",
      "False\n",
      "most\n",
      "False\n",
      "day\n",
      "False\n",
      "give\n",
      "False\n",
      "these\n",
      "False\n",
      "any\n"
     ]
    },
    {
     "ename": "KeyboardInterrupt",
     "evalue": "Interrupted by user",
     "output_type": "error",
     "traceback": [
      "\u001b[1;31m---------------------------------------------------------------------------\u001b[0m",
      "\u001b[1;31mKeyboardInterrupt\u001b[0m                         Traceback (most recent call last)",
      "\u001b[1;32mc:\\Users\\8\\Desktop\\Hola\\words.ipynb Celda 5\u001b[0m line \u001b[0;36m3\n\u001b[0;32m      <a href='vscode-notebook-cell:/c%3A/Users/8/Desktop/Hola/words.ipynb#W4sZmlsZQ%3D%3D?line=0'>1</a>\u001b[0m \u001b[39mfor\u001b[39;00m var \u001b[39min\u001b[39;00m \u001b[39mrange\u001b[39m(\u001b[39mlen\u001b[39m(en)):\n\u001b[0;32m      <a href='vscode-notebook-cell:/c%3A/Users/8/Desktop/Hola/words.ipynb#W4sZmlsZQ%3D%3D?line=1'>2</a>\u001b[0m     \u001b[39mprint\u001b[39m(en[var]\u001b[39m.\u001b[39mlower())\n\u001b[1;32m----> <a href='vscode-notebook-cell:/c%3A/Users/8/Desktop/Hola/words.ipynb#W4sZmlsZQ%3D%3D?line=2'>3</a>\u001b[0m     rpt \u001b[39m=\u001b[39m \u001b[39minput\u001b[39;49m()\n\u001b[0;32m      <a href='vscode-notebook-cell:/c%3A/Users/8/Desktop/Hola/words.ipynb#W4sZmlsZQ%3D%3D?line=3'>4</a>\u001b[0m     \u001b[39mprint\u001b[39m(esp[var]\u001b[39m.\u001b[39mlower() \u001b[39m==\u001b[39m rpt)\n",
      "File \u001b[1;32m~\\AppData\\Local\\Packages\\PythonSoftwareFoundation.Python.3.11_qbz5n2kfra8p0\\LocalCache\\local-packages\\Python311\\site-packages\\ipykernel\\kernelbase.py:1202\u001b[0m, in \u001b[0;36mKernel.raw_input\u001b[1;34m(self, prompt)\u001b[0m\n\u001b[0;32m   1200\u001b[0m     msg \u001b[39m=\u001b[39m \u001b[39m\"\u001b[39m\u001b[39mraw_input was called, but this frontend does not support input requests.\u001b[39m\u001b[39m\"\u001b[39m\n\u001b[0;32m   1201\u001b[0m     \u001b[39mraise\u001b[39;00m StdinNotImplementedError(msg)\n\u001b[1;32m-> 1202\u001b[0m \u001b[39mreturn\u001b[39;00m \u001b[39mself\u001b[39;49m\u001b[39m.\u001b[39;49m_input_request(\n\u001b[0;32m   1203\u001b[0m     \u001b[39mstr\u001b[39;49m(prompt),\n\u001b[0;32m   1204\u001b[0m     \u001b[39mself\u001b[39;49m\u001b[39m.\u001b[39;49m_parent_ident[\u001b[39m\"\u001b[39;49m\u001b[39mshell\u001b[39;49m\u001b[39m\"\u001b[39;49m],\n\u001b[0;32m   1205\u001b[0m     \u001b[39mself\u001b[39;49m\u001b[39m.\u001b[39;49mget_parent(\u001b[39m\"\u001b[39;49m\u001b[39mshell\u001b[39;49m\u001b[39m\"\u001b[39;49m),\n\u001b[0;32m   1206\u001b[0m     password\u001b[39m=\u001b[39;49m\u001b[39mFalse\u001b[39;49;00m,\n\u001b[0;32m   1207\u001b[0m )\n",
      "File \u001b[1;32m~\\AppData\\Local\\Packages\\PythonSoftwareFoundation.Python.3.11_qbz5n2kfra8p0\\LocalCache\\local-packages\\Python311\\site-packages\\ipykernel\\kernelbase.py:1245\u001b[0m, in \u001b[0;36mKernel._input_request\u001b[1;34m(self, prompt, ident, parent, password)\u001b[0m\n\u001b[0;32m   1242\u001b[0m \u001b[39mexcept\u001b[39;00m \u001b[39mKeyboardInterrupt\u001b[39;00m:\n\u001b[0;32m   1243\u001b[0m     \u001b[39m# re-raise KeyboardInterrupt, to truncate traceback\u001b[39;00m\n\u001b[0;32m   1244\u001b[0m     msg \u001b[39m=\u001b[39m \u001b[39m\"\u001b[39m\u001b[39mInterrupted by user\u001b[39m\u001b[39m\"\u001b[39m\n\u001b[1;32m-> 1245\u001b[0m     \u001b[39mraise\u001b[39;00m \u001b[39mKeyboardInterrupt\u001b[39;00m(msg) \u001b[39mfrom\u001b[39;00m \u001b[39mNone\u001b[39;00m\n\u001b[0;32m   1246\u001b[0m \u001b[39mexcept\u001b[39;00m \u001b[39mException\u001b[39;00m:\n\u001b[0;32m   1247\u001b[0m     \u001b[39mself\u001b[39m\u001b[39m.\u001b[39mlog\u001b[39m.\u001b[39mwarning(\u001b[39m\"\u001b[39m\u001b[39mInvalid Message:\u001b[39m\u001b[39m\"\u001b[39m, exc_info\u001b[39m=\u001b[39m\u001b[39mTrue\u001b[39;00m)\n",
      "\u001b[1;31mKeyboardInterrupt\u001b[0m: Interrupted by user"
     ]
    }
   ],
   "source": [
    "import random \n",
    "\n",
    "for var in range(len(en)):\n",
    "    print(en[var].lower())\n",
    "    rpt = input()\n",
    "    print(esp[var].lower() == rpt)"
   ]
  }
 ],
 "metadata": {
  "kernelspec": {
   "display_name": "Python 3",
   "language": "python",
   "name": "python3"
  },
  "language_info": {
   "codemirror_mode": {
    "name": "ipython",
    "version": 3
   },
   "file_extension": ".py",
   "mimetype": "text/x-python",
   "name": "python",
   "nbconvert_exporter": "python",
   "pygments_lexer": "ipython3",
   "version": "3.11.5"
  },
  "orig_nbformat": 4
 },
 "nbformat": 4,
 "nbformat_minor": 2
}
